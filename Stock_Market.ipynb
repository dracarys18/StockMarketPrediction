{
 "cells": [
  {
   "cell_type": "markdown",
   "id": "administrative-hanging",
   "metadata": {},
   "source": [
    "# Stock Market Prediction Using Linear Regression\n",
    "\n",
    "<i> This is a stock market prediction of Google's stock Market Data listed by Yahoo Finance using Linear Regression Model </i>"
   ]
  },
  {
   "cell_type": "code",
   "execution_count": 1,
   "id": "developing-vegetation",
   "metadata": {},
   "outputs": [],
   "source": [
    "import pandas as pd\n",
    "import numpy as np"
   ]
  },
  {
   "cell_type": "code",
   "execution_count": 2,
   "id": "different-mentor",
   "metadata": {},
   "outputs": [],
   "source": [
    "ds = pd.read_csv('GOOG.csv')"
   ]
  },
  {
   "cell_type": "code",
   "execution_count": 3,
   "id": "corresponding-march",
   "metadata": {},
   "outputs": [
    {
     "data": {
      "text/html": [
       "<div>\n",
       "<style scoped>\n",
       "    .dataframe tbody tr th:only-of-type {\n",
       "        vertical-align: middle;\n",
       "    }\n",
       "\n",
       "    .dataframe tbody tr th {\n",
       "        vertical-align: top;\n",
       "    }\n",
       "\n",
       "    .dataframe thead th {\n",
       "        text-align: right;\n",
       "    }\n",
       "</style>\n",
       "<table border=\"1\" class=\"dataframe\">\n",
       "  <thead>\n",
       "    <tr style=\"text-align: right;\">\n",
       "      <th></th>\n",
       "      <th>Open</th>\n",
       "      <th>High</th>\n",
       "      <th>Low</th>\n",
       "      <th>Close</th>\n",
       "      <th>Adj Close</th>\n",
       "      <th>Volume</th>\n",
       "    </tr>\n",
       "  </thead>\n",
       "  <tbody>\n",
       "    <tr>\n",
       "      <th>count</th>\n",
       "      <td>3809.000000</td>\n",
       "      <td>3809.000000</td>\n",
       "      <td>3809.000000</td>\n",
       "      <td>3809.000000</td>\n",
       "      <td>3809.000000</td>\n",
       "      <td>3.809000e+03</td>\n",
       "    </tr>\n",
       "    <tr>\n",
       "      <th>mean</th>\n",
       "      <td>477.021219</td>\n",
       "      <td>481.312940</td>\n",
       "      <td>472.442959</td>\n",
       "      <td>476.979070</td>\n",
       "      <td>476.979070</td>\n",
       "      <td>7.181291e+06</td>\n",
       "    </tr>\n",
       "    <tr>\n",
       "      <th>std</th>\n",
       "      <td>325.569981</td>\n",
       "      <td>328.160631</td>\n",
       "      <td>323.008258</td>\n",
       "      <td>325.744535</td>\n",
       "      <td>325.744535</td>\n",
       "      <td>8.108893e+06</td>\n",
       "    </tr>\n",
       "    <tr>\n",
       "      <th>min</th>\n",
       "      <td>49.409801</td>\n",
       "      <td>50.680038</td>\n",
       "      <td>47.800831</td>\n",
       "      <td>49.818268</td>\n",
       "      <td>49.818268</td>\n",
       "      <td>7.900000e+03</td>\n",
       "    </tr>\n",
       "    <tr>\n",
       "      <th>25%</th>\n",
       "      <td>235.616852</td>\n",
       "      <td>238.615616</td>\n",
       "      <td>233.484848</td>\n",
       "      <td>235.517227</td>\n",
       "      <td>235.517227</td>\n",
       "      <td>1.831000e+06</td>\n",
       "    </tr>\n",
       "    <tr>\n",
       "      <th>50%</th>\n",
       "      <td>313.823700</td>\n",
       "      <td>316.558472</td>\n",
       "      <td>310.386597</td>\n",
       "      <td>313.290710</td>\n",
       "      <td>313.290710</td>\n",
       "      <td>4.492500e+06</td>\n",
       "    </tr>\n",
       "    <tr>\n",
       "      <th>75%</th>\n",
       "      <td>703.619995</td>\n",
       "      <td>711.478027</td>\n",
       "      <td>695.719971</td>\n",
       "      <td>704.239990</td>\n",
       "      <td>704.239990</td>\n",
       "      <td>9.330100e+06</td>\n",
       "    </tr>\n",
       "    <tr>\n",
       "      <th>max</th>\n",
       "      <td>1274.000000</td>\n",
       "      <td>1289.270020</td>\n",
       "      <td>1266.295044</td>\n",
       "      <td>1287.579956</td>\n",
       "      <td>1287.579956</td>\n",
       "      <td>8.254150e+07</td>\n",
       "    </tr>\n",
       "  </tbody>\n",
       "</table>\n",
       "</div>"
      ],
      "text/plain": [
       "              Open         High          Low        Close    Adj Close  \\\n",
       "count  3809.000000  3809.000000  3809.000000  3809.000000  3809.000000   \n",
       "mean    477.021219   481.312940   472.442959   476.979070   476.979070   \n",
       "std     325.569981   328.160631   323.008258   325.744535   325.744535   \n",
       "min      49.409801    50.680038    47.800831    49.818268    49.818268   \n",
       "25%     235.616852   238.615616   233.484848   235.517227   235.517227   \n",
       "50%     313.823700   316.558472   310.386597   313.290710   313.290710   \n",
       "75%     703.619995   711.478027   695.719971   704.239990   704.239990   \n",
       "max    1274.000000  1289.270020  1266.295044  1287.579956  1287.579956   \n",
       "\n",
       "             Volume  \n",
       "count  3.809000e+03  \n",
       "mean   7.181291e+06  \n",
       "std    8.108893e+06  \n",
       "min    7.900000e+03  \n",
       "25%    1.831000e+06  \n",
       "50%    4.492500e+06  \n",
       "75%    9.330100e+06  \n",
       "max    8.254150e+07  "
      ]
     },
     "execution_count": 3,
     "metadata": {},
     "output_type": "execute_result"
    }
   ],
   "source": [
    "ds.describe()"
   ]
  },
  {
   "cell_type": "markdown",
   "id": "clear-piano",
   "metadata": {},
   "source": [
    "###### We have to find the closing stock value from the Dataset by using Open,Low,High stock values and the Volume of stocks"
   ]
  },
  {
   "cell_type": "code",
   "execution_count": 4,
   "id": "rental-motorcycle",
   "metadata": {},
   "outputs": [],
   "source": [
    "X = ds[['Open','High','Low','Volume']].values"
   ]
  },
  {
   "cell_type": "code",
   "execution_count": 5,
   "id": "color-chile",
   "metadata": {},
   "outputs": [],
   "source": [
    "Y = ds['Close'].values"
   ]
  },
  {
   "cell_type": "code",
   "execution_count": 6,
   "id": "blind-talent",
   "metadata": {},
   "outputs": [],
   "source": [
    "from sklearn.model_selection import train_test_split"
   ]
  },
  {
   "cell_type": "markdown",
   "id": "scenic-subsection",
   "metadata": {},
   "source": [
    "<h3> Data Splitting into train and test sets</h3>"
   ]
  },
  {
   "cell_type": "code",
   "execution_count": 7,
   "id": "architectural-viewer",
   "metadata": {},
   "outputs": [],
   "source": [
    "x_train,x_test,y_train,y_test = train_test_split(X,Y,test_size=0.2,random_state=0)"
   ]
  },
  {
   "cell_type": "markdown",
   "id": "ranging-eagle",
   "metadata": {},
   "source": [
    "## Linear Regression"
   ]
  },
  {
   "cell_type": "code",
   "execution_count": 8,
   "id": "every-prompt",
   "metadata": {},
   "outputs": [],
   "source": [
    "from sklearn.linear_model import LinearRegression\n",
    "import time"
   ]
  },
  {
   "cell_type": "code",
   "execution_count": 9,
   "id": "perfect-ukraine",
   "metadata": {},
   "outputs": [],
   "source": [
    "lr = LinearRegression()"
   ]
  },
  {
   "cell_type": "code",
   "execution_count": 10,
   "id": "solar-sessions",
   "metadata": {},
   "outputs": [],
   "source": [
    "start = time.time()\n",
    "lr.fit(x_train,y_train)\n",
    "end = time.time()"
   ]
  },
  {
   "cell_type": "markdown",
   "id": "informational-nashville",
   "metadata": {},
   "source": [
    "###### Predicting the value from the test Set"
   ]
  },
  {
   "cell_type": "code",
   "execution_count": 11,
   "id": "aerial-folder",
   "metadata": {},
   "outputs": [],
   "source": [
    "y_pred = lr.predict(x_test)"
   ]
  },
  {
   "cell_type": "code",
   "execution_count": 12,
   "id": "apart-multiple",
   "metadata": {},
   "outputs": [],
   "source": [
    "acc = lr.score(x_test,y_test)"
   ]
  },
  {
   "cell_type": "markdown",
   "id": "rotary-sector",
   "metadata": {},
   "source": [
    "## Accuracy and Training Time"
   ]
  },
  {
   "cell_type": "code",
   "execution_count": 13,
   "id": "lyric-anaheim",
   "metadata": {},
   "outputs": [
    {
     "name": "stdout",
     "output_type": "stream",
     "text": [
      "Accuracy: 0.9999148905538142\n",
      "Training time: 0.0068264007568359375\n"
     ]
    }
   ],
   "source": [
    "print('Accuracy:',acc)\n",
    "print('Training time:',end-start)"
   ]
  },
  {
   "cell_type": "code",
   "execution_count": 14,
   "id": "commercial-identity",
   "metadata": {},
   "outputs": [],
   "source": [
    "from sklearn.metrics import mean_squared_error,mean_absolute_error"
   ]
  },
  {
   "cell_type": "markdown",
   "id": "progressive-petroleum",
   "metadata": {},
   "source": [
    "## Mean Squared Error and Mean Absolute Error of the Linear Regression "
   ]
  },
  {
   "cell_type": "code",
   "execution_count": 15,
   "id": "banner-parent",
   "metadata": {},
   "outputs": [
    {
     "name": "stdout",
     "output_type": "stream",
     "text": [
      "1.977556099166723\n",
      "9.695384334331465\n"
     ]
    }
   ],
   "source": [
    "print(mean_absolute_error(y_test,y_pred))\n",
    "print(mean_squared_error(y_test,y_pred))"
   ]
  },
  {
   "cell_type": "code",
   "execution_count": 16,
   "id": "geographic-bacon",
   "metadata": {},
   "outputs": [],
   "source": [
    "final = pd.DataFrame({'Actual':y_test,'Predicted':y_pred})"
   ]
  },
  {
   "cell_type": "markdown",
   "id": "indonesian-survivor",
   "metadata": {},
   "source": [
    "## Dataframe of the Actual Value in the y_test and the Predicted value y_pred"
   ]
  },
  {
   "cell_type": "code",
   "execution_count": 17,
   "id": "sharp-treasury",
   "metadata": {},
   "outputs": [
    {
     "data": {
      "text/html": [
       "<div>\n",
       "<style scoped>\n",
       "    .dataframe tbody tr th:only-of-type {\n",
       "        vertical-align: middle;\n",
       "    }\n",
       "\n",
       "    .dataframe tbody tr th {\n",
       "        vertical-align: top;\n",
       "    }\n",
       "\n",
       "    .dataframe thead th {\n",
       "        text-align: right;\n",
       "    }\n",
       "</style>\n",
       "<table border=\"1\" class=\"dataframe\">\n",
       "  <thead>\n",
       "    <tr style=\"text-align: right;\">\n",
       "      <th></th>\n",
       "      <th>Actual</th>\n",
       "      <th>Predicted</th>\n",
       "    </tr>\n",
       "  </thead>\n",
       "  <tbody>\n",
       "    <tr>\n",
       "      <th>count</th>\n",
       "      <td>762.000000</td>\n",
       "      <td>762.000000</td>\n",
       "    </tr>\n",
       "    <tr>\n",
       "      <th>mean</th>\n",
       "      <td>480.650998</td>\n",
       "      <td>480.663864</td>\n",
       "    </tr>\n",
       "    <tr>\n",
       "      <th>std</th>\n",
       "      <td>337.737115</td>\n",
       "      <td>337.606118</td>\n",
       "    </tr>\n",
       "    <tr>\n",
       "      <th>min</th>\n",
       "      <td>50.565468</td>\n",
       "      <td>50.509166</td>\n",
       "    </tr>\n",
       "    <tr>\n",
       "      <th>25%</th>\n",
       "      <td>230.141129</td>\n",
       "      <td>230.680300</td>\n",
       "    </tr>\n",
       "    <tr>\n",
       "      <th>50%</th>\n",
       "      <td>308.770156</td>\n",
       "      <td>308.659219</td>\n",
       "    </tr>\n",
       "    <tr>\n",
       "      <th>75%</th>\n",
       "      <td>714.577515</td>\n",
       "      <td>713.429289</td>\n",
       "    </tr>\n",
       "    <tr>\n",
       "      <th>max</th>\n",
       "      <td>1272.180054</td>\n",
       "      <td>1266.204018</td>\n",
       "    </tr>\n",
       "  </tbody>\n",
       "</table>\n",
       "</div>"
      ],
      "text/plain": [
       "            Actual    Predicted\n",
       "count   762.000000   762.000000\n",
       "mean    480.650998   480.663864\n",
       "std     337.737115   337.606118\n",
       "min      50.565468    50.509166\n",
       "25%     230.141129   230.680300\n",
       "50%     308.770156   308.659219\n",
       "75%     714.577515   713.429289\n",
       "max    1272.180054  1266.204018"
      ]
     },
     "execution_count": 17,
     "metadata": {},
     "output_type": "execute_result"
    }
   ],
   "source": [
    "final.describe()"
   ]
  },
  {
   "cell_type": "markdown",
   "id": "relevant-exchange",
   "metadata": {},
   "source": [
    "## Bar Chart of Actual and Predicted Values"
   ]
  },
  {
   "cell_type": "code",
   "execution_count": 18,
   "id": "mechanical-being",
   "metadata": {},
   "outputs": [
    {
     "data": {
      "text/plain": [
       "<AxesSubplot:>"
      ]
     },
     "execution_count": 18,
     "metadata": {},
     "output_type": "execute_result"
    },
    {
     "data": {
      "image/png": "[encoded data removed]",
      "text/plain": [
       "<Figure size 432x288 with 1 Axes>"
      ]
     },
     "metadata": {
      "needs_background": "light"
     },
     "output_type": "display_data"
    }
   ],
   "source": [
    "final.head(25).plot(kind='bar')"
   ]
  },
  {
   "cell_type": "code",
   "execution_count": null,
   "id": "missing-cycle",
   "metadata": {},
   "outputs": [],
   "source": []
  }
 ],
 "metadata": {
  "kernelspec": {
   "display_name": "Python 3",
   "language": "python",
   "name": "python3"
  },
  "language_info": {
   "codemirror_mode": {
    "name": "ipython",
    "version": 3
   },
   "file_extension": ".py",
   "mimetype": "text/x-python",
   "name": "python",
   "nbconvert_exporter": "python",
   "pygments_lexer": "ipython3",
   "version": "3.8.8"
  },
  "varInspector": {
   "cols": {
    "lenName": 16,
    "lenType": 16,
    "lenVar": 40
   },
   "kernels_config": {
    "python": {
     "delete_cmd_postfix": "",
     "delete_cmd_prefix": "del ",
     "library": "var_list.py",
     "varRefreshCmd": "print(var_dic_list())"
    },
    "r": {
     "delete_cmd_postfix": ") ",
     "delete_cmd_prefix": "rm(",
     "library": "var_list.r",
     "varRefreshCmd": "cat(var_dic_list()) "
    }
   },
   "types_to_exclude": [
    "module",
    "function",
    "builtin_function_or_method",
    "instance",
    "_Feature"
   ],
   "window_display": false
  }
 },
 "nbformat": 4,
 "nbformat_minor": 5
}
